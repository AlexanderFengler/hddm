{
 "cells": [
  {
   "cell_type": "code",
   "execution_count": 6,
   "metadata": {},
   "outputs": [],
   "source": [
    "#import\n",
    "import pandas as pd\n",
    "import numpy as np\n",
    "import hddm\n",
    "from scipy import stats\n",
    "import seaborn as sns\n",
    "import matplotlib.pyplot as plt\n",
    "import pymc\n",
    "import kabuki\n",
    "sns.set(style=\"white\")\n",
    "%matplotlib inline\n",
    "from tqdm import tqdm\n",
    "import warnings\n",
    "warnings.filterwarnings(\"ignore\", category=np.VisibleDeprecationWarning)"
   ]
  },
  {
   "cell_type": "code",
   "execution_count": 7,
   "metadata": {},
   "outputs": [],
   "source": [
    "# hddm.generate.gen_rand_rlddm_data(a=1,t=0.3,alpha=0.8,scaler=1,subjs=1,split_by=0,size=20)"
   ]
  },
  {
   "cell_type": "code",
   "execution_count": 8,
   "metadata": {
    "tags": []
   },
   "outputs": [
    {
     "output_type": "stream",
     "name": "stdout",
     "text": [
      ">  [0.5, 0.5] 0.0 0 0.5559999999980818\n>  [1.0621495250176634, 0.5] 0.5621495250176634 0 0.451999999998047\n>  [0.9859596108909983, 0.5] 0.48595961089099826 1 0.6110000000021076\n>  [0.9859596108909983, -0.02014827366977401] 1.0061078845607723 1 0.5920000000021013\n>  [0.9859596108909983, 0.04474662649395056] 0.9412129843970477 1 0.5650000000020923\n>  [0.9859596108909983, -0.023397550930715993] 1.0093571618217143 1 0.5170000000020762\n>  [0.9859596108909983, -0.05601333847310886] 1.0419729493641072 1 0.5860000000020993\n>  [0.9859596108909983, -0.046193034814320896] 1.0321526457053192 1 0.3530000000020214\n>  [0.9859596108909983, -0.055474283139117626] 1.041433894030116 1 0.37100000000202743\n>  [0.9859596108909983, -0.04459712188247706] 1.0305567327734753 1 0.46900000000206016\n>  [0.9859596108909983, -0.027754972788312026] 1.0137145836793102 1 0.3820000000020311\n>  [0.9859596108909983, -0.021818283672269803] 1.007777894563268 0 0.43799999999804234\n>  [0.9637219222738643, -0.021818283672269803] 0.9855402059461341 1 0.43700000000204947\n>  [0.9637219222738643, -0.03505294154734076] 0.9987748638212051 1 0.4730000000020615\n>  [0.9637219222738643, -0.036758326053676696] 1.000480248327541 0 0.9689999999982197\n>  [0.9816562186495198, -0.036758326053676696] 1.0184145447031965 1 0.4170000000020428\n>  [0.9816562186495198, -0.03982826285754199] 1.0214844815070618 0 0.5209999999980701\n>  [0.9889075488165904, -0.03982826285754199] 1.0287358116741323 1 0.43700000000204947\n>  [0.9889075488165904, -0.04556507475110353] 1.034472623567694 0 0.5479999999980791\n>  [0.995435591370783, -0.04556507475110353] 1.0410006661218865 1 0.4080000000020398\n"
     ]
    },
    {
     "output_type": "execute_result",
     "data": {
      "text/plain": [
       "   trial  response  feedback     rt  subj_idx  q_init  split_by\n",
       "0      0         0  1.062150  0.556       111     0.5         0\n",
       "1      1         0  0.909770  0.452       111     0.5         0\n",
       "2      2         1 -0.020148  0.611       111     0.5         0\n",
       "3      3         1  0.109642  0.592       111     0.5         0\n",
       "4      4         1 -0.159686  0.565       111     0.5         0"
      ],
      "text/html": "<div>\n<style scoped>\n    .dataframe tbody tr th:only-of-type {\n        vertical-align: middle;\n    }\n\n    .dataframe tbody tr th {\n        vertical-align: top;\n    }\n\n    .dataframe thead th {\n        text-align: right;\n    }\n</style>\n<table border=\"1\" class=\"dataframe\">\n  <thead>\n    <tr style=\"text-align: right;\">\n      <th></th>\n      <th>trial</th>\n      <th>response</th>\n      <th>feedback</th>\n      <th>rt</th>\n      <th>subj_idx</th>\n      <th>q_init</th>\n      <th>split_by</th>\n    </tr>\n  </thead>\n  <tbody>\n    <tr>\n      <th>0</th>\n      <td>0</td>\n      <td>0</td>\n      <td>1.062150</td>\n      <td>0.556</td>\n      <td>111</td>\n      <td>0.5</td>\n      <td>0</td>\n    </tr>\n    <tr>\n      <th>1</th>\n      <td>1</td>\n      <td>0</td>\n      <td>0.909770</td>\n      <td>0.452</td>\n      <td>111</td>\n      <td>0.5</td>\n      <td>0</td>\n    </tr>\n    <tr>\n      <th>2</th>\n      <td>2</td>\n      <td>1</td>\n      <td>-0.020148</td>\n      <td>0.611</td>\n      <td>111</td>\n      <td>0.5</td>\n      <td>0</td>\n    </tr>\n    <tr>\n      <th>3</th>\n      <td>3</td>\n      <td>1</td>\n      <td>0.109642</td>\n      <td>0.592</td>\n      <td>111</td>\n      <td>0.5</td>\n      <td>0</td>\n    </tr>\n    <tr>\n      <th>4</th>\n      <td>4</td>\n      <td>1</td>\n      <td>-0.159686</td>\n      <td>0.565</td>\n      <td>111</td>\n      <td>0.5</td>\n      <td>0</td>\n    </tr>\n  </tbody>\n</table>\n</div>"
     },
     "metadata": {},
     "execution_count": 8
    }
   ],
   "source": [
    "data = hddm.generate.gen_rl_data_MAB_with_RT(num_trials=20, mu=[1,0], mu_sd=0.1, a=1, t=0.3, scaler=1)\n",
    "\n",
    "#data['rt'] = 0.5\n",
    "data['subj_idx'] = 111\n",
    "data['q_init'] = 0.5\n",
    "data['split_by'] = 0\n",
    "\n",
    "data.head()"
   ]
  },
  {
   "cell_type": "code",
   "execution_count": null,
   "metadata": {
    "tags": []
   },
   "outputs": [],
   "source": [
    "#run the model by calling hddm.Hrl (instead of hddm.HDDM for normal model and hddm.HDDMrl for rlddm-model)\n",
    "m_rl = hddm.HDDMrl(data, params=['scaler'])\n",
    "\n",
    "#set sample and burn-in\n",
    "m_rl.sample(500,burn=200,dbname='traces.db',db='pickle')\n",
    "#print stats to get an overview of posterior distribution of estimated parameters\n",
    "m_rl.print_stats()"
   ]
  },
  {
   "cell_type": "markdown",
   "metadata": {},
   "source": [
    "Parameter estimates from the pure RL-model are a bit different compared to the RLDDM. This is to be expected as probability of choice in DDM is dependent both on the decsision threshold and the scaled difference in q-values, whereas the RL model only uses the scaled difference in q-values. "
   ]
  },
  {
   "cell_type": "code",
   "execution_count": null,
   "metadata": {},
   "outputs": [],
   "source": [
    "m_rl.plot_posteriors()"
   ]
  },
  {
   "cell_type": "code",
   "execution_count": null,
   "metadata": {},
   "outputs": [],
   "source": [
    "alpha, beta = m_rl.nodes_db.node[['alpha', 'beta']]\n",
    "samples = {'alpha':alpha.trace(),'beta':beta.trace()}\n",
    "samp = pd.DataFrame(data=samples)\n",
    "\n",
    "def corrfunc(x, y, **kws):\n",
    "    r, _ = stats.pearsonr(x, y)\n",
    "    ax = plt.gca()\n",
    "    ax.annotate(\"r = {:.2f}\".format(r),\n",
    "                xy=(.1, .9), xycoords=ax.transAxes)\n",
    "\n",
    "g = sns.PairGrid(samp, palette=[\"red\"])\n",
    "g.map_upper(plt.scatter, s=10)\n",
    "g.map_diag(sns.distplot, kde=False)\n",
    "g.map_lower(sns.kdeplot, cmap=\"Blues_d\")\n",
    "g.map_lower(corrfunc)"
   ]
  },
  {
   "cell_type": "code",
   "execution_count": null,
   "metadata": {},
   "outputs": [],
   "source": []
  }
 ],
 "metadata": {
  "kernelspec": {
   "name": "python3613jvsc74a57bd03640cac9197ef2b64aadaaf9c7dbb5b676529fabf65cddd316e9ce1b3319da1c",
   "display_name": "Python 3.6.13 64-bit ('hddm': conda)"
  },
  "language_info": {
   "codemirror_mode": {
    "name": "ipython",
    "version": 3
   },
   "file_extension": ".py",
   "mimetype": "text/x-python",
   "name": "python",
   "nbconvert_exporter": "python",
   "pygments_lexer": "ipython3",
   "version": "3.6.13"
  }
 },
 "nbformat": 4,
 "nbformat_minor": 4
}